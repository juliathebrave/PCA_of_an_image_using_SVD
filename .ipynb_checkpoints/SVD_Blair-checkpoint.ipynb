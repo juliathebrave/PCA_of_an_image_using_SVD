{
 "cells": [
  {
   "cell_type": "markdown",
   "metadata": {},
   "source": [
    "September 29, 2016 - Women in Data Science Meetup - \"Data Science from Scratch\" Workshop #8\n",
    "\n",
    "# Data Science from Scratch Tutorial\n",
    "\n",
    "## Playing with an SVD of an Image of Tony Blair\n",
    "\n",
    "### Julia Galstad 2016"
   ]
  },
  {
   "cell_type": "markdown",
   "metadata": {},
   "source": [
    "This notebook will demonstrate \n",
    "    1. Using the SVD to compute principal components and values for PCA directly from the data, without using the correlation matrix.\n",
    "    2. What an image looks like reconstructed using various numbers of principal values.\n",
    "    3. How different principal components pick out different features from an image, an example of unsupervised feature selection.\n",
    "  \n",
    "The image we'll use is preprocessed (by Sci-kit learn) from the dataset used in \"Labeled Faces in the Wild\":\n",
    "\n",
    "  http://vis-www.cs.umass.edu/lfw/lfw-funneled.tgz\n",
    "  \n",
    "The image is stored in ``Blair.csv``.\n",
    "  \n",
    "After this notebook, you may enjoy Sci-kit learn's \"Faces recognition example using eigenfaces and SVMs\" from http://scikit-learn.org/stable/auto_examples/applications/face_recognition.html. Facial recognition in this example is done using PCA and a support vector machine (SVM)."
   ]
  },
  {
   "cell_type": "code",
   "execution_count": null,
   "metadata": {
    "collapsed": false
   },
   "outputs": [],
   "source": [
    "from __future__ import print_function, division \n",
    "\n",
    "%matplotlib notebook\n",
    "\n",
    "from time import time\n",
    "import logging\n",
    "import matplotlib.pyplot as plt\n",
    "import seaborn as sns\n",
    "\n",
    "import numpy as np\n",
    "from sklearn import preprocessing\n",
    "\n",
    "# Display progress logs\n",
    "logging.basicConfig(level=logging.INFO, format='%(asctime)s %(message)s')"
   ]
  },
  {
   "cell_type": "markdown",
   "metadata": {},
   "source": [
    "### Defining a helper plot function"
   ]
  },
  {
   "cell_type": "markdown",
   "metadata": {},
   "source": [
    "We'll be plotting lots of images to see what's going on. The function ``plot_gallery`` will be helpful."
   ]
  },
  {
   "cell_type": "code",
   "execution_count": null,
   "metadata": {
    "collapsed": true
   },
   "outputs": [],
   "source": [
    "def plot_gallery(images, titles, n_row=2, n_col=3):\n",
    "    \"\"\"Helper function to plot a gallery of Blair portraits\n",
    "    \n",
    "    images - a list of grayscale images (arrays)\n",
    "    titles - a list of title of those images (strings)\n",
    "    n_row, n_col - specifications for how many rows and columns of\n",
    "                   images we want to display at once\n",
    "    \n",
    "    \"\"\"\n",
    "    plt.figure(figsize=(1.8 * n_col, 2.4 * n_row))\n",
    "    plt.subplots_adjust(bottom=0, left=.01, right=.99, top=.90, hspace=.35)\n",
    "    for i in range(n_row * n_col):\n",
    "        plt.subplot(n_row, n_col, i + 1)\n",
    "        plt.imshow(images[i], cmap=plt.cm.gray)\n",
    "        plt.title(titles[i], size=12)\n",
    "        plt.xticks(())\n",
    "        plt.yticks(())"
   ]
  },
  {
   "cell_type": "markdown",
   "metadata": {},
   "source": [
    "### Importing the image of Tony Blair"
   ]
  },
  {
   "cell_type": "markdown",
   "metadata": {},
   "source": [
    "Import the data representing an image of Tony Blair's face from 'Blair.csv'. The data represents the numbers used to make a small grayscale image. "
   ]
  },
  {
   "cell_type": "code",
   "execution_count": null,
   "metadata": {
    "collapsed": false
   },
   "outputs": [],
   "source": [
    "blair=np.genfromtxt('Blair.csv', delimiter=',') # import the image from a csv\n",
    "print(type(blair))                              # the image is saved as an array\n",
    "h,w = blair.shape                               # saving the size of the image\n",
    "print(blair.shape)                              # the size of the array\n",
    "print(blair[0, 0:12])                           # a peek into the grayscale numbers\n",
    "                                                   # that create the image\n",
    "plot_gallery([blair],['original Blair'], 1, 1) \n",
    "plt.show()                                      # The original Tony Blair"
   ]
  },
  {
   "cell_type": "markdown",
   "metadata": {},
   "source": [
    "### Centering the Data"
   ]
  },
  {
   "cell_type": "markdown",
   "metadata": {},
   "source": [
    "Use sklearn's preprocessing module to center our data, which is mandatory for PCA. If you're using a pre-made PCA algorithm, it will likely center it for you. \n",
    "\n",
    "Normalizing data is also often a great idea before PCA. We won't normalize our data here, although the scaler is capable of that. "
   ]
  },
  {
   "cell_type": "code",
   "execution_count": null,
   "metadata": {
    "collapsed": false
   },
   "outputs": [],
   "source": [
    "scaler = preprocessing.StandardScaler(with_std=False).fit(blair)\n",
    "print(scaler)"
   ]
  },
  {
   "cell_type": "markdown",
   "metadata": {},
   "source": [
    "After we center the data, we see that the scaler worked by centering each column (as opposed to each row). If your data weren't an image, you'd need to pay attention to whether or not your storing your data as one column per feature or one row per feature. Modules in ``sklearn`` are often written with the former in mind.\n",
    "\n",
    "We have access to the array of means that were used so we could 'uncenter' the data when we're done if we like."
   ]
  },
  {
   "cell_type": "code",
   "execution_count": null,
   "metadata": {
    "collapsed": false
   },
   "outputs": [],
   "source": [
    "blair_centered =scaler.transform(blair)  # centering the image data\n",
    "print(scaler.mean_[0:5])                 # looking at part of the first row to check\n",
    "print(blair[0, 0:5])                        # we are centering columns\n",
    "print(blair_centered[0, 0:5])"
   ]
  },
  {
   "cell_type": "code",
   "execution_count": null,
   "metadata": {
    "collapsed": false
   },
   "outputs": [],
   "source": [
    "plot_gallery([blair, blair_centered],['original Blair', 'centered Blair'], 1, 2)\n",
    "plt.show() "
   ]
  },
  {
   "cell_type": "markdown",
   "metadata": {},
   "source": [
    "### Calculate the SVD of Tony Blair's image"
   ]
  },
  {
   "cell_type": "markdown",
   "metadata": {},
   "source": [
    "We factor our centered data matrix (not the covariance matrix) using the SVD."
   ]
  },
  {
   "cell_type": "code",
   "execution_count": null,
   "metadata": {
    "collapsed": false
   },
   "outputs": [],
   "source": [
    "t0 = time()\n",
    "U, s, Vt = np.linalg.svd(blair_centered, full_matrices=True)\n",
    "print(U.shape, s.shape, Vt.shape)\n",
    "print(\"done in %0.3fs\" % (time() - t0))"
   ]
  },
  {
   "cell_type": "markdown",
   "metadata": {},
   "source": [
    "Numpy's SVD algorithm saves the diagonal entries (the singular values) of $S$ as an array ``s`` for efficiency. \n",
    "However, we can always make the diagonal matrix ``S`` from ``s`` to check to see that we indeed factored our data as \n",
    "$$\\rm{blair\\_centered} = USV^{\\dagger}.$$\n",
    "(In the literature, we often notate the matrix $S$ as $\\Sigma$.)"
   ]
  },
  {
   "cell_type": "code",
   "execution_count": null,
   "metadata": {
    "collapsed": false
   },
   "outputs": [],
   "source": [
    "S = np.zeros((125, 94))\n",
    "S[:94, :94] = np.diag(s)              \n",
    "print(np.allclose(blair_centered, np.dot(U, np.dot(S, Vt)))) #returns True, hopefully"
   ]
  },
  {
   "cell_type": "markdown",
   "metadata": {},
   "source": [
    "### How many principal components do we want?"
   ]
  },
  {
   "cell_type": "markdown",
   "metadata": {},
   "source": [
    "We use the information the SVD to calculate the ``explained_variance_ratio``."
   ]
  },
  {
   "cell_type": "code",
   "execution_count": null,
   "metadata": {
    "collapsed": false
   },
   "outputs": [],
   "source": [
    "principal_values = [i**2/(h-1) for i in s]           # h is the number of rows in blair_centered\n",
    "                                                     # s contains singular values from the SVD\n",
    "total_variance = sum(principal_values)\n",
    "\n",
    "# The entry explained_variance_ratio[i] indicates the ratio of variance explained by the\n",
    "# ith principal value\n",
    "\n",
    "explained_variance_ratio = [principal_value / total_variance for principal_value in principal_values]\n",
    "print(explained_variance_ratio[0:15], ' ... ', explained_variance_ratio[-3:])"
   ]
  },
  {
   "cell_type": "markdown",
   "metadata": {},
   "source": [
    "The barplot of the ``cumulative_explained_variance_ratio`` shows what ratio of\n",
    "variance is explained by number of principal components."
   ]
  },
  {
   "cell_type": "code",
   "execution_count": null,
   "metadata": {
    "collapsed": false
   },
   "outputs": [],
   "source": [
    "fig = plt.figure(figsize=(6,4))\n",
    "ax = fig.add_subplot(111)\n",
    "\n",
    "cumulative_explained_variance_ratio = np.cumsum(explained_variance_ratio)\n",
    "\n",
    "comps = range(len(cumulative_explained_variance_ratio))\n",
    "lcomps = [x for x in comps]\n",
    "\n",
    "sns.barplot(lcomps, cumulative_explained_variance_ratio)"
   ]
  },
  {
   "cell_type": "markdown",
   "metadata": {},
   "source": [
    "### Use the \"Zoom to Rectangle\" button to answer the questions.\n",
    "\n",
    "### How many principal components explain\n",
    "    \n",
    "#### 63% of the variance?\n",
    "    \n",
    "#### 90% of the variance?\n",
    "    \n",
    "#### 95% of the variance?\n",
    "    \n",
    "#### 99% of the variance?\n",
    "    \n",
    "#### 99.5% of the variance?\n",
    "\n",
    "#### 99.8% of the variance?\n",
    "    \n",
    "### How many components do you think will make a 'good' image of Tony Blair? And/or an image 'fairly indistinguishable' from the original? "
   ]
  },
  {
   "cell_type": "markdown",
   "metadata": {},
   "source": [
    "If you wanted, you could make a new barplot of only a portion of ``cumulative_explained_variance_ratio``."
   ]
  },
  {
   "cell_type": "code",
   "execution_count": null,
   "metadata": {
    "collapsed": false,
    "scrolled": true
   },
   "outputs": [],
   "source": [
    "#fig = plt.figure(figsize=(6,4))\n",
    "#ax = fig.add_subplot(111)\n",
    "#sns.barplot(lcomps[0:20], cumulative_explained_variance_ratio[0:20])"
   ]
  },
  {
   "cell_type": "markdown",
   "metadata": {},
   "source": [
    "### Let's investigate the first 5 principal components."
   ]
  },
  {
   "cell_type": "code",
   "execution_count": null,
   "metadata": {
    "collapsed": false
   },
   "outputs": [],
   "source": [
    "five_PCs = [np.transpose(Vt[[i],:]) for i in range(5)]    # PCs are columns of V\n",
    "                                                          # PC1 = five_PCs[0]\n",
    "print(five_PCs[0].shape)"
   ]
  },
  {
   "cell_type": "markdown",
   "metadata": {},
   "source": [
    "To visualize what portion of the image ``blair_centered`` is represented along PC1, we first do a coordinate change to project onto that PC. Then we reconstruct that portion of the image via another coordinate change. This amounts to finding the product\n",
    "\n",
    "``blair_centered``$\\cdot{\\rm PC1}\\cdot{\\rm PC1}^t$"
   ]
  },
  {
   "cell_type": "code",
   "execution_count": null,
   "metadata": {
    "collapsed": false
   },
   "outputs": [],
   "source": [
    "print(np.dot(five_PCs[0], np.transpose(five_PCs[0])).shape)\n",
    "\n",
    "image_of_fivePCs = [np.dot(blair_centered, np.dot(five_PCs[i], np.transpose(five_PCs[i]))) for i in range(5)]\n",
    "print(image_of_fivePCs[0].shape)"
   ]
  },
  {
   "cell_type": "markdown",
   "metadata": {},
   "source": [
    "### Can you see any 'facial features' represented by the first 5 PCs?"
   ]
  },
  {
   "cell_type": "code",
   "execution_count": null,
   "metadata": {
    "collapsed": false
   },
   "outputs": [],
   "source": [
    "image_of_fivePCs.append(blair_centered)\n",
    "fivePCs_titles = ['PC1', 'PC2', 'PC3', 'PC4', 'PC5', 'original, centered']\n",
    "plot_gallery(image_of_fivePCs, fivePCs_titles)\n",
    "plt.show() "
   ]
  },
  {
   "cell_type": "markdown",
   "metadata": {},
   "source": [
    "### How well do you think the image will look using between 1 and 5 PCs? "
   ]
  },
  {
   "cell_type": "markdown",
   "metadata": {},
   "source": [
    "Let's look."
   ]
  },
  {
   "cell_type": "code",
   "execution_count": null,
   "metadata": {
    "collapsed": false
   },
   "outputs": [],
   "source": [
    "images = []\n",
    "\n",
    "t0 = time()\n",
    "for n_components in [1, 2, 3, 4, 5]:\n",
    "    V = Vt[:n_components - w]                                           # retrieves $n$ PCs\n",
    "    images.append(np.dot(blair_centered, np.dot(np.transpose(V), V)))   # projects then reconstructs\n",
    "\n",
    "image_titles = ['1 PC', '2 PCs', '3 PCs', '4 PCs', '5 PCs', 'original, centered']\n",
    "print(\"done in %0.3fs\" % (time() - t0))\n",
    "\n",
    "images.append(blair_centered)\n",
    "\n",
    "plot_gallery(images, image_titles)\n",
    "\n",
    "plt.show()"
   ]
  },
  {
   "cell_type": "markdown",
   "metadata": {},
   "source": [
    "### How many components do you think will make a 'good' image of Tony Blair? And/or an image 'fairly indistinguishable' from the original? \n",
    "\n",
    "Earlier you conjectured based on looking at the cumulative explained variance ratio bar plot, but now let's look at the images themselves.\n",
    "\n",
    "Let's first try images based on 2, 5, 8, 15 and 30 principal components, but run the code as many times as you like, changing the numbers of PCs."
   ]
  },
  {
   "cell_type": "code",
   "execution_count": null,
   "metadata": {
    "collapsed": false
   },
   "outputs": [],
   "source": [
    "# constructs 5 compressed images of Tony Blair based on desired number of PCs \n",
    "# and compares to the original, centered Blair\n",
    "\n",
    "images = []\n",
    "    \n",
    "for n_components in [2, 5, 8, 15, 30]:\n",
    "    V = Vt[:n_components - w]                                           # retrieves $n$ PCs\n",
    "    images.append(np.dot(blair_centered, np.dot(np.transpose(V), V))) # projects then reconstructs\n",
    "\n",
    "image_titles = ['2 PCs', '5 PCs', '8 PCs', '15 PCs', '30 PCs', 'original, centered']\n",
    "images.append(blair_centered)\n",
    "\n",
    "plot_gallery(images, image_titles)\n",
    "\n",
    "plt.show()"
   ]
  },
  {
   "cell_type": "markdown",
   "metadata": {},
   "source": [
    "### Yay! You made it to the end of the notebook."
   ]
  }
 ],
 "metadata": {
  "kernelspec": {
   "display_name": "Python 2",
   "language": "python",
   "name": "python2"
  },
  "language_info": {
   "codemirror_mode": {
    "name": "ipython",
    "version": 2
   },
   "file_extension": ".py",
   "mimetype": "text/x-python",
   "name": "python",
   "nbconvert_exporter": "python",
   "pygments_lexer": "ipython2",
   "version": "2.7.12"
  }
 },
 "nbformat": 4,
 "nbformat_minor": 0
}
